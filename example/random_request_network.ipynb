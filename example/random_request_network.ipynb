{
 "cells": [
  {
   "cell_type": "code",
   "execution_count": 2,
   "metadata": {},
   "outputs": [],
   "source": [
    "from numpy import random"
   ]
  },
  {
   "cell_type": "code",
   "execution_count": 3,
   "metadata": {},
   "outputs": [],
   "source": [
    "from sequence.topology.topology import Topology\n",
    "from sequence.kernel.timeline import Timeline\n",
    "from sequence.app.random_request import RandomRequestApp"
   ]
  },
  {
   "cell_type": "code",
   "execution_count": 17,
   "metadata": {},
   "outputs": [],
   "source": [
    "def set_parameters(topology):\n",
    "    # set memory parameters\n",
    "    MEMO_FREQ = 2e3\n",
    "    MEMO_EXPIRE = 1.1\n",
    "    MEMO_EFFICIENCY = 1\n",
    "    MEMO_FIDELITY = 0.9349367588934053\n",
    "    for node in topology.get_nodes_by_type(\"QuantumRouter\"):\n",
    "        node.memory_array.update_memory_params(\"frequency\", MEMO_FREQ)\n",
    "        node.memory_array.update_memory_params(\"coherence_time\", MEMO_EXPIRE)\n",
    "        node.memory_array.update_memory_params(\"efficiency\", MEMO_EFFICIENCY)\n",
    "        node.memory_array.update_memory_params(\"raw_fidelity\", MEMO_FIDELITY)\n",
    "\n",
    "    # set entanglement swapping parameters\n",
    "    SWAP_SUCC_PROB = 0.64\n",
    "    SWAP_DEGRADATION = 0.99\n",
    "    for node in topology.get_nodes_by_type(\"QuantumRouter\"):\n",
    "        node.network_manager.protocol_stack[1].set_swapping_success_rate(SWAP_SUCC_PROB)\n",
    "        node.network_manager.protocol_stack[1].set_swapping_degradation(SWAP_DEGRADATION)\n",
    "        \n",
    "    # set detector parameters\n",
    "    DETECTOR_EFFICIENCY = 0.8\n",
    "    DETECTOR_COUNT_RATE = 5e7\n",
    "    DETECTOR_RESOLUTION = 100\n",
    "    for node in topology.get_nodes_by_type(\"BSMNode\"):\n",
    "        node.bsm.update_detectors_params(\"efficiency\", DETECTOR_EFFICIENCY)\n",
    "        node.bsm.update_detectors_params(\"count_rate\", DETECTOR_COUNT_RATE)\n",
    "        node.bsm.update_detectors_params(\"time_resolution\", DETECTOR_RESOLUTION)\n",
    "        \n",
    "    # set quantum channel parameters\n",
    "    ATTENUATION = 0.0002\n",
    "    QC_FREQ = 1e11\n",
    "    for qc in topology.qchannels:\n",
    "        qc.attenuation = ATTENUATION\n",
    "        qc.frequency = QC_FREQ"
   ]
  },
  {
   "cell_type": "code",
   "execution_count": 22,
   "metadata": {},
   "outputs": [],
   "source": [
    "def test(sim_time):\n",
    "    random.seed(0)\n",
    "    network_config = \"star_network.json\"\n",
    "    \n",
    "    tl = Timeline(sim_time * 1e9)\n",
    "    network_topo = Topology(\"network_topo\", tl)\n",
    "    network_topo.load_config(network_config)\n",
    "    \n",
    "    set_parameters(network_topo)\n",
    "    \n",
    "    # construct random request applications\n",
    "    node_names = [node.name for node in network_topo.get_nodes_by_type(\"QuantumRouter\")]\n",
    "    apps = []\n",
    "    for i, name in enumerate(node_names):\n",
    "        other_nodes = node_names[:] # copy node name list\n",
    "        other_nodes.remove(name)\n",
    "        app = RandomRequestApp(network_topo.nodes[name], other_nodes, i)\n",
    "        apps.append(app)\n",
    "        app.start()\n",
    "        \n",
    "    tl.init()\n",
    "    tl.run()\n",
    "    \n",
    "    for app in apps:\n",
    "        print(app.node.name)\n",
    "        print(\"\\t\", len(app.get_wait_time()))\n",
    "        print(\"\\t\", app.get_wait_time())\n",
    "        throughput = app.get_throughput()\n",
    "        print(\"\\t\", app.reserves)\n",
    "        print(\"\\t\", throughput)"
   ]
  },
  {
   "cell_type": "code",
   "execution_count": 24,
   "metadata": {},
   "outputs": [
    {
     "name": "stdout",
     "output_type": "stream",
     "text": [
      "center\n",
      "\t 1\n",
      "\t [1600000000000.0]\n",
      "\t [['edge4', 1600000000000.0, 16600000000000.0, 14, 0.808194704787239]]\n",
      "\t []\n",
      "edge1\n",
      "\t 0\n",
      "\t []\n",
      "\t []\n",
      "\t []\n",
      "edge2\n",
      "\t 1\n",
      "\t [1200000000000.0]\n",
      "\t [['edge4', 1200000000000.0, 12200000000000.0, 14, 0.962845148118856]]\n",
      "\t []\n",
      "edge3\n",
      "\t 0\n",
      "\t []\n",
      "\t []\n",
      "\t []\n",
      "edge4\n",
      "\t 0\n",
      "\t []\n",
      "\t []\n",
      "\t []\n"
     ]
    }
   ],
   "source": [
    "test(10e3)"
   ]
  },
  {
   "cell_type": "code",
   "execution_count": null,
   "metadata": {},
   "outputs": [],
   "source": []
  }
 ],
 "metadata": {
  "kernelspec": {
   "display_name": "Python 3",
   "language": "python",
   "name": "python3"
  },
  "language_info": {
   "codemirror_mode": {
    "name": "ipython",
    "version": 3
   },
   "file_extension": ".py",
   "mimetype": "text/x-python",
   "name": "python",
   "nbconvert_exporter": "python",
   "pygments_lexer": "ipython3",
   "version": "3.7.3"
  }
 },
 "nbformat": 4,
 "nbformat_minor": 4
}
