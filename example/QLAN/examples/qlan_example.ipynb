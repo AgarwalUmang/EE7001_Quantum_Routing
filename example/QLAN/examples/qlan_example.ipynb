{
 "cells": [
  {
   "cell_type": "code",
   "execution_count": 2,
   "metadata": {},
   "outputs": [],
   "source": [
    "from typing import List\n",
    "from sequence.topology.node import Node\n",
    "from sequence.kernel.timeline import Timeline\n",
    "from sequence.components.memory import Memory\n",
    "from sequence.message import Message\n",
    "from sequence.utils import log\n",
    "from sequence.components.optical_channel import ClassicalChannel\n",
    "\n",
    "from sequence.components.optical_channel import QuantumChannel\n",
    "\n",
    "#from ..qlan_orchestrator import QLanOrchestrator\n"
   ]
  },
  {
   "cell_type": "code",
   "execution_count": null,
   "metadata": {},
   "outputs": [],
   "source": [
    "# TODO: Class for managing experiments. Should be able to instatiate nodes, run experiments and display results with the topology expressed with json files.\n",
    "def pair_protocol(orchestrator: OrchestratorNode, clients: List[ClientNode]):\n",
    "    \n",
    "    # WIP: associate memories correctly, modify set_others if needed\n",
    "    p_orch = orchestrator.protocols[0]\n",
    "    orch_memo_name1 = orchestrator.resource_manager.memory_names[0]\n",
    "    orch_memo_name2 = orchestrator.resource_manager.memory_names[1]\n",
    "    protocols_names = []\n",
    "    clients_names = []\n",
    "    clients_memory_names = []\n",
    "    \n",
    "    for client in clients:\n",
    "        p_client = client.protocols[0]\n",
    "        protocols_names.append(p_client)\n",
    "        clients_names.append(client.name)\n",
    "        clients_memory_names.append(client.resource_manager.memory_names[0])\n",
    "\n",
    "        p_client.set_others(p_orch.name, orchestrator.name, [orch_memo_name1, orch_memo_name2])\n",
    "\n",
    "    p_orch.set_others(protocols_names, clients_names, [orch_memo_name1, orch_memo_name2])\n",
    "\n",
    "\n",
    "def display_state_information(tl, local_memories, remote_memories):\n",
    "    print(\"Local Memories:\")\n",
    "    print(\"----------------------------------------\")\n",
    "    for i, memory in enumerate(local_memories):\n",
    "        print(f\"Memory {memory.name}:\")\n",
    "        print(f\"  Entangled Memory: {memory.entangled_memory}\")\n",
    "        print(f\"  Quantum state stored in memory{memory.qstate_key+1}:\")\n",
    "        print(f\"  {tl.quantum_manager.states[i+len(local_memories)+1]}\")\n",
    "        print(\"----------------------------------------\")\n",
    "    \n",
    "    print(\"Remote Memories:\")\n",
    "    print(\"----------------------------------------\")\n",
    "    for i, memory in enumerate(remote_memories):\n",
    "        print(f\"Memory {memory.name}:\")\n",
    "        print(f\"  Entangled Memory: {memory.entangled_memory}\")\n",
    "        print(f\"  Quantum state stored in memory{memory.qstate_key+1}:\")\n",
    "        print(f\"  {tl.quantum_manager.states[i]}\")\n",
    "        print(\"----------------------------------------\")"
   ]
  },
  {
   "cell_type": "code",
   "execution_count": null,
   "metadata": {},
   "outputs": [],
   "source": [
    "# SIMULATION PARAMETERS\n",
    "\n",
    "tl = Timeline(1e12)\n",
    "tl.show_progress = False\n",
    "\n",
    "# ..."
   ]
  },
  {
   "cell_type": "code",
   "execution_count": null,
   "metadata": {},
   "outputs": [],
   "source": [
    "# Create clients (change to client objects)\n",
    "client1 = ClientNode('client1', tl)\n",
    "client2 = ClientNode('client2', tl)\n",
    "client3 = ClientNode('client3', tl)\n",
    "client1.set_seed(224)\n",
    "client2.set_seed(225)\n",
    "client3.set_seed(226)\n",
    "    \n",
    "# Getting remote memory names\n",
    "memo_c_1_name = client1.components[client1.resource_manager.memory1_name]\n",
    "memo_c_2_name = client2.components[client2.resource_manager.memory1_name]\n",
    "memo_c_3_name = client3.components[client3.resource_manager.memory1_name]\n",
    "\n",
    "# Getting remote memory components\n",
    "memo_c_1 = client1.get_components_by_type(\"Memory\")[0]\n",
    "memo_c_2 = client2.get_components_by_type(\"Memory\")[0]\n",
    "memo_c_3 = client3.get_components_by_type(\"Memory\")[0]"
   ]
  },
  {
   "cell_type": "code",
   "execution_count": null,
   "metadata": {},
   "outputs": [],
   "source": [
    "# Create Orchestrator node and clients\n",
    "orch = OrchestratorNode('Orchestrator', tl, num_local_memories=2, remote_memories=[memo_c_1, memo_c_2, memo_c_3])\n",
    "    \n",
    "# Seed to obtain 0s as results measurements at the orchestrator\n",
    "orch.set_seed(2332)\n",
    "\n",
    "# Get the memories from the node\n",
    "memo_o_1 = orch.components[orch.resource_manager.memory1_name]\n",
    "memo_o_2 = orch.components[orch.resource_manager.memory2_name]"
   ]
  },
  {
   "cell_type": "code",
   "execution_count": null,
   "metadata": {},
   "outputs": [],
   "source": [
    "# Building the physical topology\n",
    "cc_o_c1 = ClassicalChannel(\"cc_o_c1\", tl, 10, 1e9)\n",
    "cc_o_c2 = ClassicalChannel(\"cc_o_c2\", tl, 10, 1e9)\n",
    "cc_o_c3 = ClassicalChannel(\"cc_o_c3\", tl, 10, 1e9)\n",
    "cc_o_c1.set_ends(orch, client1.name)\n",
    "cc_o_c2.set_ends(orch, client2.name)\n",
    "cc_o_c3.set_ends(orch, client3.name)\n",
    "\n",
    "cc_c1_o = ClassicalChannel(\"cc_c1_o\", tl, 10, 1e9)\n",
    "cc_c2_o = ClassicalChannel(\"cc_c2_o\", tl, 10, 1e9)\n",
    "cc_c3_o = ClassicalChannel(\"cc_c3_o\", tl, 10, 1e9)\n",
    "cc_c1_o.set_ends(client1, orch.name)\n",
    "cc_c2_o.set_ends(client2, orch.name)\n",
    "cc_c3_o.set_ends(client3, orch.name)"
   ]
  },
  {
   "cell_type": "code",
   "execution_count": null,
   "metadata": {},
   "outputs": [],
   "source": [
    "orch.resource_manager.create_protocol()\n",
    "client1.resource_manager.create_protocol()\n",
    "client2.resource_manager.create_protocol()\n",
    "client3.resource_manager.create_protocol()\n",
    "    \n",
    "pair_protocol(orchestrator=orch, clients=[client1, client2, client3])\n",
    "\n",
    "# Display the state information (stored in the State Manager!)\n",
    "display_state_information(tl=tl, local_memories=[memo_o_1, memo_o_2], remote_memories=[memo_c_1, memo_c_2, memo_c_3])"
   ]
  },
  {
   "cell_type": "code",
   "execution_count": null,
   "metadata": {},
   "outputs": [],
   "source": [
    "orch.update_bases('zz')\n",
    "\n",
    "print(\"\\n ----  Orchestrator Measurement ---- \\n\")\n",
    "\n",
    "client1.protocols[0].start()\n",
    "client2.protocols[0].start()\n",
    "client3.protocols[0].start()\n",
    "orch.protocols[0].start(orch)\n",
    "\n",
    "tl.init()\n",
    "tl.run()\n",
    "\n",
    "# Display the state information (stored in the State Manager!)\n",
    "display_state_information(tl=tl, local_memories=[memo_o_1, memo_o_2], remote_memories=[memo_c_1, memo_c_2, memo_c_3])"
   ]
  }
 ],
 "metadata": {
  "kernelspec": {
   "display_name": "py310",
   "language": "python",
   "name": "python3"
  },
  "language_info": {
   "codemirror_mode": {
    "name": "ipython",
    "version": 3
   },
   "file_extension": ".py",
   "mimetype": "text/x-python",
   "name": "python",
   "nbconvert_exporter": "python",
   "pygments_lexer": "ipython3",
   "version": "3.10.13"
  }
 },
 "nbformat": 4,
 "nbformat_minor": 2
}
