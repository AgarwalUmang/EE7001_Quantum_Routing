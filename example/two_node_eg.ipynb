{
 "cells": [
  {
   "cell_type": "code",
   "execution_count": 20,
   "metadata": {},
   "outputs": [],
   "source": [
    "from ipywidgets import interact\n",
    "from matplotlib import pyplot as plt\n",
    "import time"
   ]
  },
  {
   "cell_type": "code",
   "execution_count": 21,
   "metadata": {},
   "outputs": [],
   "source": [
    "from sequence.kernel.timeline import Timeline\n",
    "from sequence.topology.node import QuantumRouter, MiddleNode\n",
    "from sequence.components.optical_channel import QuantumChannel, ClassicalChannel\n",
    "from sequence.protocols.management.rule_manager import Rule\n",
    "from sequence.protocols.entanglement.generation import EntanglementGenerationA"
   ]
  },
  {
   "cell_type": "code",
   "execution_count": 22,
   "metadata": {},
   "outputs": [],
   "source": [
    "def eg_rule_condition(memory_info, manager):\n",
    "    if memory_info.state == \"RAW\":\n",
    "        return [memory_info]\n",
    "    else:\n",
    "        return []\n",
    "\n",
    "def eg_rule_action1(memories):\n",
    "    def eg_req_func(protocol):\n",
    "        return isinstance(protocol, EntanglementGenerationA)\n",
    "\n",
    "    memory = memories[0]\n",
    "    protocol = EntanglementGenerationA(None, \"EGA.\" + memory.name, \"m1\", \"r2\", memory)\n",
    "    protocol.primary = True\n",
    "    return [protocol, \"r2\", eg_req_func]\n",
    "\n",
    "def eg_rule_action2(memories):\n",
    "    memory = memories[0]\n",
    "    protocol = EntanglementGenerationA(None, \"EGA.\" + memory.name, \"m1\", \"r1\", memory)\n",
    "    return [protocol, None, None]"
   ]
  },
  {
   "cell_type": "code",
   "execution_count": 23,
   "metadata": {},
   "outputs": [],
   "source": [
    "def test(sim_time, cc_delay, qc_atten, qc_dist):\n",
    "    \"\"\"\n",
    "    sim_time: duration of simulation time (ms)\n",
    "    cc_delay: delay on classical channels (ns)\n",
    "    qc_atten: attenuation on quantum channels (db/m)\n",
    "    qc_dist: distance of quantum channels (km)\n",
    "    \"\"\"\n",
    "    cc_delay *= 1e6\n",
    "    qc_dist *= 1e3\n",
    "    tl = Timeline(sim_time * 1e9)\n",
    "    \n",
    "    r1 = QuantumRouter(\"r1\", tl)\n",
    "    r2 = QuantumRouter(\"r2\", tl)\n",
    "    m1 = MiddleNode(\"m1\", tl, [\"r1\", \"r2\"])\n",
    "    \n",
    "    cc1 = ClassicalChannel(\"cc_r1_m1\", tl, 2e-4, 1e3, delay=cc_delay)\n",
    "    cc1.set_ends(r1, m1)\n",
    "    cc2 = ClassicalChannel(\"cc_r2_m1\", tl, 2e-4, 1e3, delay=cc_delay)\n",
    "    cc2.set_ends(r2, m1)\n",
    "    cc3 = ClassicalChannel(\"cc_r1_r2\", tl, 2e-4, 1e3, delay=cc_delay)\n",
    "    cc3.set_ends(r1, r2)\n",
    "    \n",
    "    qc1 = QuantumChannel(\"qc_r1_m1\", tl, qc_atten, qc_dist)\n",
    "    qc1.set_ends(r1, m1)\n",
    "    qc2 = QuantumChannel(\"qc_r2_m1\", tl, qc_atten, qc_dist)\n",
    "    qc2.set_ends(r2, m1)\n",
    "    \n",
    "    tl.init()\n",
    "    rule1 = Rule(10, eg_rule_action1, eg_rule_condition)\n",
    "    r1.resource_manager.load(rule1)\n",
    "    rule2 = Rule(10, eg_rule_action2, eg_rule_condition)\n",
    "    r2.resource_manager.load(rule2)\n",
    "    \n",
    "    tick = time.time()\n",
    "    tl.run()\n",
    "    print(\"execution time %.2f sec\" % (time.time() - tick))\n",
    "    \n",
    "    data = []\n",
    "    for info in r1.resource_manager.memory_manager:\n",
    "        data.append(info.entangle_time / 1e12)\n",
    "    data.sort()\n",
    "    plt.plot(data, range(1, len(data) + 1), marker=\"o\")\n",
    "    plt.xlabel(\"Simulation Time (s)\")\n",
    "    plt.ylabel(\"Aggregated Number of Entangled Memory\")\n",
    "    plt.show()\n",
    "    "
   ]
  },
  {
   "cell_type": "code",
   "execution_count": 24,
   "metadata": {
    "scrolled": false
   },
   "outputs": [
    {
     "data": {
      "application/vnd.jupyter.widget-view+json": {
       "model_id": "70005a25c78c4c899b6aa66912c6aa9d",
       "version_major": 2,
       "version_minor": 0
      },
      "text/plain": [
       "interactive(children=(IntSlider(value=500, description='sim_time', max=1000, min=100, step=100), IntSlider(val…"
      ]
     },
     "metadata": {},
     "output_type": "display_data"
    },
    {
     "data": {
      "text/plain": [
       "<function __main__.test(sim_time, cc_delay, qc_atten, qc_dist)>"
      ]
     },
     "execution_count": 24,
     "metadata": {},
     "output_type": "execute_result"
    }
   ],
   "source": [
    "interactive_plot = interact(test, sim_time=(100, 1000, 100), cc_delay=(100, 10000, 100), qc_atten=[1e-5, 2e-5, 3e-5], qc_dist=(1, 10, 1))\n",
    "interactive_plot"
   ]
  },
  {
   "cell_type": "code",
   "execution_count": 10,
   "metadata": {},
   "outputs": [],
   "source": []
  }
 ],
 "metadata": {
  "kernelspec": {
   "display_name": "local-venv",
   "language": "python",
   "name": "local-venv"
  },
  "language_info": {
   "codemirror_mode": {
    "name": "ipython",
    "version": 3
   },
   "file_extension": ".py",
   "mimetype": "text/x-python",
   "name": "python",
   "nbconvert_exporter": "python",
   "pygments_lexer": "ipython3",
   "version": "3.7.5"
  }
 },
 "nbformat": 4,
 "nbformat_minor": 2
}