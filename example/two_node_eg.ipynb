{
 "cells": [
  {
   "cell_type": "code",
   "execution_count": 2,
   "metadata": {},
   "outputs": [],
   "source": [
    "from ipywidgets import interact\n",
    "from matplotlib import pyplot as plt\n",
    "import time"
   ]
  },
  {
   "cell_type": "code",
   "execution_count": 3,
   "metadata": {},
   "outputs": [],
   "source": [
    "# Import tools from the sequence library\n",
    "#   Timeline is the main element of the simulation kernel\n",
    "#   QuantumRouter is a general purpose quantum router node, and MiddleNode is required for entanglement generation\n",
    "#   Quantum and Classical channels are communication links simulating optical fiber\n",
    "#   Rules are used to direct the implemented protocols\n",
    "#   EntanglementGenerationA is the entanglement generation protocol used on quantum routers\n",
    "from sequence.kernel.timeline import Timeline\n",
    "from sequence.topology.node import QuantumRouter, MiddleNode\n",
    "from sequence.components.optical_channel import QuantumChannel, ClassicalChannel\n",
    "from sequence.protocols.resource_management.rule_manager import Rule\n",
    "from sequence.protocols.entanglement_management.generation import EntanglementGenerationA"
   ]
  },
  {
   "cell_type": "code",
   "execution_count": 4,
   "metadata": {},
   "outputs": [],
   "source": [
    "# our rule condition requires RAW (unentangled) memories\n",
    "def eg_rule_condition(memory_info, manager):\n",
    "    if memory_info.state == \"RAW\":\n",
    "        return [memory_info]\n",
    "    else:\n",
    "        return []\n",
    "\n",
    "# define action to be taken when we meet our condition on router 1\n",
    "def eg_rule_action1(memories_info):\n",
    "    # define requirement of protocols on other node\n",
    "    def eg_req_func(protocols):\n",
    "        for protocol in protocols:\n",
    "            if isinstance(protocol, EntanglementGenerationA):\n",
    "                return protocol\n",
    "            \n",
    "    # create entanglement generation protocol with proper parameters\n",
    "    memories = [info.memory for info in memories_info]\n",
    "    memory = memories[0]\n",
    "    protocol = EntanglementGenerationA(None, \"EGA.\" + memory.name, \"m1\", \"r2\", memory)\n",
    "    protocol.primary = True\n",
    "    \n",
    "    # return values for a rule are the protocol created, the destination node, and the destination codition\n",
    "    return [protocol, [\"r2\"], [eg_req_func]]\n",
    "\n",
    "# define action to be taken when we meet our condition on router 2\n",
    "def eg_rule_action2(memories_info):\n",
    "    memories = [info.memory for info in memories_info]\n",
    "    memory = memories[0]\n",
    "    protocol = EntanglementGenerationA(None, \"EGA.\" + memory.name, \"m1\", \"r1\", memory)\n",
    "    return [protocol, [None], [None]]"
   ]
  },
  {
   "cell_type": "code",
   "execution_count": 5,
   "metadata": {},
   "outputs": [],
   "source": [
    "def test(sim_time, cc_delay, qc_atten, qc_dist):\n",
    "    \"\"\"\n",
    "    sim_time: duration of simulation time (ms)\n",
    "    cc_delay: delay on classical channels (ns)\n",
    "    qc_atten: attenuation on quantum channels (db/m)\n",
    "    qc_dist: distance of quantum channels (km)\n",
    "    \"\"\"\n",
    "    cc_delay *= 1e6\n",
    "    qc_dist *= 1e3\n",
    "    tl = Timeline(sim_time * 1e9)\n",
    "    \n",
    "    # define our quantum routers and middle node, update parameters as necessary\n",
    "    r1 = QuantumRouter(\"r1\", tl)\n",
    "    r2 = QuantumRouter(\"r2\", tl)\n",
    "    m1 = MiddleNode(\"m1\", tl, [\"r1\", \"r2\"])\n",
    "    for node in [r1, r2]:\n",
    "        node.memory_array.update_memory_params(\"coherence_time\", 0.3)\n",
    "    \n",
    "    # create classical channel between middle node and routers, as well as between routers\n",
    "    cc1 = ClassicalChannel(\"cc_r1_m1\", tl, 1e3, delay=cc_delay)\n",
    "    cc1.set_ends(r1, m1)\n",
    "    cc2 = ClassicalChannel(\"cc_r2_m1\", tl, 1e3, delay=cc_delay)\n",
    "    cc2.set_ends(r2, m1)\n",
    "    cc3 = ClassicalChannel(\"cc_r1_r2\", tl, 1e3, delay=cc_delay)\n",
    "    cc3.set_ends(r1, r2)\n",
    "    \n",
    "    # create linear quantum network (r1)---(m1)---(r2)\n",
    "    qc1 = QuantumChannel(\"qc_r1_m1\", tl, qc_atten, qc_dist)\n",
    "    qc1.set_ends(r1, m1)\n",
    "    qc2 = QuantumChannel(\"qc_r2_m1\", tl, qc_atten, qc_dist)\n",
    "    qc2.set_ends(r2, m1)\n",
    "    \n",
    "    # initialize our simulation kernel and instantiate the written rules\n",
    "    tl.init()\n",
    "    rule1 = Rule(10, eg_rule_action1, eg_rule_condition)\n",
    "    r1.resource_manager.load(rule1)\n",
    "    rule2 = Rule(10, eg_rule_action2, eg_rule_condition)\n",
    "    r2.resource_manager.load(rule2)\n",
    "    \n",
    "    tick = time.time()\n",
    "    tl.run()\n",
    "    print(\"execution time %.2f sec\" % (time.time() - tick))\n",
    "    \n",
    "    # display our collected metrics\n",
    "    data = []\n",
    "    for info in r1.resource_manager.memory_manager:\n",
    "        if info.entangle_time > 0:\n",
    "            data.append(info.entangle_time / 1e12)\n",
    "    data.sort()\n",
    "    plt.plot(data, range(1, len(data) + 1), marker=\"o\")\n",
    "    plt.xlabel(\"Simulation Time (s)\")\n",
    "    plt.ylabel(\"Aggregated Number of Entangled Memory\")\n",
    "    plt.show()"
   ]
  },
  {
   "cell_type": "code",
   "execution_count": 6,
   "metadata": {
    "scrolled": false
   },
   "outputs": [
    {
     "data": {
      "application/vnd.jupyter.widget-view+json": {
       "model_id": "e870143293c549f8bad0562ff6c31665",
       "version_major": 2,
       "version_minor": 0
      },
      "text/plain": [
       "interactive(children=(IntSlider(value=500, description='sim_time', max=1000, min=100, step=100), IntSlider(val…"
      ]
     },
     "metadata": {},
     "output_type": "display_data"
    },
    {
     "data": {
      "text/plain": [
       "<function __main__.test(sim_time, cc_delay, qc_atten, qc_dist)>"
      ]
     },
     "execution_count": 6,
     "metadata": {},
     "output_type": "execute_result"
    }
   ],
   "source": [
    "interactive_plot = interact(test, sim_time=(100, 1000, 100), cc_delay=(100, 10000, 100), qc_atten=[1e-5, 2e-5, 3e-5], qc_dist=(1, 10, 1))\n",
    "interactive_plot"
   ]
  },
  {
   "cell_type": "code",
   "execution_count": null,
   "metadata": {},
   "outputs": [],
   "source": []
  }
 ],
 "metadata": {
  "kernelspec": {
   "display_name": "Python 3",
   "language": "python",
   "name": "python3"
  },
  "language_info": {
   "codemirror_mode": {
    "name": "ipython",
    "version": 3
   },
   "file_extension": ".py",
   "mimetype": "text/x-python",
   "name": "python",
   "nbconvert_exporter": "python",
   "pygments_lexer": "ipython3",
   "version": "3.7.3"
  }
 },
 "nbformat": 4,
 "nbformat_minor": 2
}
