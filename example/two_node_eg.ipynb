{
 "cells": [
  {
   "cell_type": "code",
   "execution_count": 1,
   "metadata": {},
   "outputs": [],
   "source": [
    "from ipywidgets import interact\n",
    "from matplotlib import pyplot as plt\n",
    "import time"
   ]
  },
  {
   "cell_type": "code",
   "execution_count": 2,
   "metadata": {
    "pycharm": {
     "is_executing": false
    }
   },
   "outputs": [],
   "source": [
    "from sequence.kernel.timeline import Timeline\n",
    "from sequence.topology.node import QuantumRepeater, MiddleNode\n",
    "from sequence.components.optical_channel import QuantumChannel, ClassicalChannel"
   ]
  },
  {
   "cell_type": "code",
   "execution_count": 3,
   "metadata": {},
   "outputs": [],
   "source": [
    "class Parent():\n",
    "    def __init__(self, timeline):\n",
    "        self.timeline = timeline\n",
    "        self.pop_times = []\n",
    "        \n",
    "    def pop(self, **kwargs):\n",
    "        self.pop_times.append(self.timeline.now() * 1e-12)"
   ]
  },
  {
   "cell_type": "code",
   "execution_count": 4,
   "metadata": {
    "pycharm": {
     "is_executing": false
    }
   },
   "outputs": [],
   "source": [
    "def test(sim_time, cc_delay, qc_atten, qc_dist):\n",
    "    \"\"\"\n",
    "    sim_time: duration of simulation time (ms)\n",
    "    cc_delay: delay on classical channels (ns)\n",
    "    qc_atten: attenuation on quantum channels (db/m)\n",
    "    qc_dist: distance of quantum channels (km)\n",
    "    \"\"\"\n",
    "    cc_delay *= 1e6\n",
    "    qc_dist *= 1e3\n",
    "    tl = Timeline(sim_time * 1e9)\n",
    "    \n",
    "    r1 = QuantumRepeater(\"r1\", tl)\n",
    "    r2 = QuantumRepeater(\"r2\", tl)\n",
    "    m1 = MiddleNode(\"m1\", tl)\n",
    "    \n",
    "    cc1 = ClassicalChannel(\"cc_r1_m1\", tl, 2e-4, 1e3, delay=cc_delay)\n",
    "    cc1.set_ends(r1, m1)\n",
    "    cc2 = ClassicalChannel(\"cc_r2_m1\", tl, 2e-4, 1e3, delay=cc_delay)\n",
    "    cc2.set_ends(r2, m1)\n",
    "    cc3 = ClassicalChannel(\"cc_r1_m2\", tl, 2e-4, 1e3, delay=cc_delay)\n",
    "    cc3.set_ends(r1, r2)\n",
    "    \n",
    "    qc1 = QuantumChannel(\"qc_r1_m1\", tl, qc_atten, qc_dist)\n",
    "    qc1.set_ends(r1, m1)\n",
    "    qc2 = QuantumChannel(\"qc_r2_m1\", tl, qc_atten, qc_dist)\n",
    "    qc2.set_ends(r2, m1)\n",
    "    \n",
    "    r1.eg_add_middle(m1)\n",
    "    r2.eg_add_middle(m1)\n",
    "    r1.eg_add_others(r2)\n",
    "    r2.eg_add_others(r1)\n",
    "    m1.eg_add_others(r1)\n",
    "    m1.eg_add_others(r2)\n",
    "    \n",
    "    # to keep track of entangled pairs\n",
    "    parent = Parent(tl)\n",
    "    r1.eg.upper_protocols.append(parent)\n",
    "        \n",
    "    tl.init()\n",
    "    r1.load_events()\n",
    "    \n",
    "    tick = time.time()\n",
    "    tl.run()\n",
    "    print(\"execution time %.2f sec\" % (time.time() - tick))\n",
    "    \n",
    "    data = parent.pop_times\n",
    "    plt.plot(data, range(1, len(data) + 1), marker=\"o\")\n",
    "    plt.xlabel(\"Simulation Time (s)\")\n",
    "    plt.ylabel(\"Aggregated Number of Entangled Memory\")\n",
    "    plt.show()\n",
    "    "
   ]
  },
  {
   "cell_type": "code",
   "execution_count": 5,
   "metadata": {
    "scrolled": false
   },
   "outputs": [
    {
     "data": {
      "application/vnd.jupyter.widget-view+json": {
       "model_id": "f4ba431a0e9f485ab5b09d664d0af52e",
       "version_major": 2,
       "version_minor": 0
      },
      "text/plain": [
       "interactive(children=(IntSlider(value=500, description='sim_time', max=1000, min=100, step=100), IntSlider(val…"
      ]
     },
     "metadata": {},
     "output_type": "display_data"
    },
    {
     "data": {
      "text/plain": [
       "<function __main__.test(sim_time, cc_delay, qc_atten, qc_dist)>"
      ]
     },
     "execution_count": 5,
     "metadata": {},
     "output_type": "execute_result"
    }
   ],
   "source": [
    "interactive_plot = interact(test, sim_time=(100, 1000, 100), cc_delay=(100, 10000, 100), qc_atten=[1e-5, 2e-5, 3e-5], qc_dist=(1, 10, 1))\n",
    "interactive_plot"
   ]
  },
  {
   "cell_type": "code",
   "execution_count": null,
   "metadata": {},
   "outputs": [],
   "source": []
  }
 ],
 "metadata": {
  "kernelspec": {
   "display_name": "Python 3",
   "language": "python",
   "name": "python3"
  },
  "language_info": {
   "codemirror_mode": {
    "name": "ipython",
    "version": 3
   },
   "file_extension": ".py",
   "mimetype": "text/x-python",
   "name": "python",
   "nbconvert_exporter": "python",
   "pygments_lexer": "ipython3",
   "version": "3.7.3"
  },
  "pycharm": {
   "stem_cell": {
    "cell_type": "raw",
    "metadata": {
     "collapsed": false
    },
    "source": []
   }
  }
 },
 "nbformat": 4,
 "nbformat_minor": 2
}
