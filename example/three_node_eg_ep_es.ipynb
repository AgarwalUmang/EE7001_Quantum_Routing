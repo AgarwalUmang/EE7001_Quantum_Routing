{
 "cells": [
  {
   "cell_type": "markdown",
   "metadata": {},
   "source": [
    "# Three Node Entanglement Distribution\n",
    "\n",
    "In this file, we use SeQUeNCe to simulate entanglement distribution between three linear network nodes. Entanglement generation, purification, and swapping protocols are used. The network topology is shown below:\n",
    "\n",
    "<img src=\"./notebook_images/3_node_topo.png\" width=\"500\"/>\n",
    "\n",
    "Note that the hardware on quantum routers consists of quantum memories and on middle nodes includes a BSM. This is shown in greater detail in the `two_node_eg` notebook."
   ]
  },
  {
   "cell_type": "markdown",
   "metadata": {},
   "source": [
    "## Example\n",
    "\n",
    "Here we build the simulation using only tools directly from SeQUeNCe with their default behavior and rules. This is in contrast to the other notebook example files, where we add custom metrics and create custom rules for network operation.\n",
    "\n",
    "### Import\n",
    "\n",
    "We must first import the necessary tools from SeQUeNCe to run our simulations.\n",
    "\n",
    "- `Timeline` is the main simulation tool, providing an interface for the discrete-event simulation kernel.\n",
    "- `QuantumRouter` provides a ready-to-use quantum router implementing SeQUeNCe's modular design. `MiddleNode` provides a simpler, ready-to-use quantum node placed between routers as required by the entanglement generation protocol.\n",
    "- `QuantumChannel` and `ClassicalChannel` are communication links between quantum nodes, providing models of optical fibers."
   ]
  },
  {
   "cell_type": "code",
   "execution_count": 1,
   "metadata": {},
   "outputs": [],
   "source": [
    "from ipywidgets import interact\n",
    "from matplotlib import pyplot as plt\n",
    "import time\n",
    "from numpy import random\n",
    "random.seed(0)"
   ]
  },
  {
   "cell_type": "code",
   "execution_count": 2,
   "metadata": {},
   "outputs": [],
   "source": [
    "from sequence.kernel.timeline import Timeline\n",
    "from sequence.topology.node import QuantumRouter, MiddleNode\n",
    "from sequence.components.optical_channel import QuantumChannel, ClassicalChannel"
   ]
  },
  {
   "cell_type": "markdown",
   "metadata": {},
   "source": [
    "### Building the Simulation\n",
    "\n",
    "We are now ready to build the simulation itself. This example follows the usual process to ensure that all tools function properly:\n",
    "\n",
    "1. Create the timeline for the simulation\n",
    "2. Create the simulated network topology (here this is done explicitly, but this may also be handled by functions of the `Topology` class under `sequence.topology.topology`)\n",
    "    - This includes adjustment of default hardware parameters as necessary\n",
    "    - This also includes creation of a static routing table for entanglement paths\n",
    "3. Instantiate custom protocols and ensure all protocols are set up (paired) properly (if necessary)\n",
    "4. Initialize and run the simulation\n",
    "5. Collect and display the desired metrics\n",
    "\n",
    "For this example, the desired metric is the number of completed entanglements over time and their fidelities. Several elements of SeQUeNCe, including the Resource Management module, automatically collect simple metrics such as these. For custom or more advanced metrics, custom code may need to be written and applied. See the documentation for a list of metrics provided by default for each simulation tool."
   ]
  },
  {
   "cell_type": "code",
   "execution_count": 31,
   "metadata": {
    "pycharm": {
     "name": "#%%\n"
    }
   },
   "outputs": [],
   "source": [
    "def test(sim_time, cc_delay, qc_atten, qc_dist):\n",
    "    \"\"\"\n",
    "    sim_time: duration of simulation time (ms)\n",
    "    cc_delay: delay on classical channels (ns)\n",
    "    qc_atten: attenuation on quantum channels (db/m)\n",
    "    qc_dist: distance of quantum channels (km)\n",
    "    \"\"\"\n",
    "    cc_delay *= 1e6\n",
    "    qc_dist *= 1e3\n",
    "    raw_fidelity = 0.85\n",
    "    tl = Timeline(sim_time * 1e9)\n",
    "    \n",
    "    # create our quantum nodes and update parameters as needed\n",
    "    r1 = QuantumRouter(\"r1\", tl, 50)\n",
    "    r2 = QuantumRouter(\"r2\", tl, 100)\n",
    "    r3 = QuantumRouter(\"r3\", tl, 50)\n",
    "    m1 = MiddleNode(\"m1\", tl, [\"r1\", \"r2\"])\n",
    "    m2 = MiddleNode(\"m2\", tl, [\"r2\", \"r3\"])\n",
    "    for node in [r1, r2, r3]:\n",
    "        node.memory_array.update_memory_params(\"coherence_time\", 10)\n",
    "    for node in [r1,r2,r3]:\n",
    "        node.memory_array.update_memory_params(\"raw_fidelity\", raw_fidelity)\n",
    "    \n",
    "    # create all-to-all classical connections\n",
    "    for node1 in [r1,r2,r3,m1,m2]:\n",
    "        for node2 in [r1,r2,r3,m1,m2]:\n",
    "            cc = ClassicalChannel(\"cc_%s_%s\"%(node1.name, node2.name), tl, 1e3, delay=cc_delay)\n",
    "            cc.set_ends(node1, node2)\n",
    "\n",
    "    # create routing table manually\n",
    "    # note that the routing table is based on quantum links, not classical\n",
    "    r1.network_manager.protocol_stack[0].add_forwarding_rule(\"r2\", \"r2\")\n",
    "    r1.network_manager.protocol_stack[0].add_forwarding_rule(\"r3\", \"r2\")\n",
    "    r2.network_manager.protocol_stack[0].add_forwarding_rule(\"r1\", \"r1\")\n",
    "    r2.network_manager.protocol_stack[0].add_forwarding_rule(\"r3\", \"r3\")\n",
    "    r3.network_manager.protocol_stack[0].add_forwarding_rule(\"r1\", \"r2\")\n",
    "    r3.network_manager.protocol_stack[0].add_forwarding_rule(\"r2\", \"r2\")\n",
    "    \n",
    "    # create quantum channels linking r1 and r2 to m1\n",
    "    qc1 = QuantumChannel(\"qc_r1_m1\", tl, qc_atten, qc_dist)\n",
    "    qc1.set_ends(r1, m1)\n",
    "    qc2 = QuantumChannel(\"qc_r2_m1\", tl, qc_atten, qc_dist)\n",
    "    qc2.set_ends(r2, m1)\n",
    "    # create quantum channels linking r2 and r3 to m2\n",
    "    qc3 = QuantumChannel(\"qc_r2_m2\", tl, qc_atten, qc_dist)\n",
    "    qc3.set_ends(r2, m2)\n",
    "    qc4 = QuantumChannel(\"qc_r3_m2\", tl, qc_atten, qc_dist)\n",
    "    qc4.set_ends(r3, m2)\n",
    "    \n",
    "    # run our simulation\n",
    "    tl.init()\n",
    "    r1.network_manager.request(\"r3\", 1e12, 1e14, 50, 0.9)\n",
    "\n",
    "    tick = time.time()\n",
    "    tl.run()\n",
    "    print(\"execution time %.2f sec\" % (time.time() - tick))\n",
    "    \n",
    "    # display metrics for entangled memories\n",
    "    fig, (ax1, ax2, ax3) = plt.subplots(1, 3)\n",
    "\n",
    "    # entangled memories on r1\n",
    "    data = []\n",
    "    for info in r1.resource_manager.memory_manager:\n",
    "        if info.entangle_time > 0:\n",
    "            data.append(info.entangle_time / 1e12)\n",
    "    data.sort()\n",
    "    ax1.plot(data, range(1, len(data) + 1), marker=\"o\")\n",
    "    ax1.set_title(\"r1\")\n",
    "    ax1.set_ylabel(\"Aggregate Number of Entangled Memories\")\n",
    "    \n",
    "    # entangled memories on r2\n",
    "    data = []\n",
    "    for info in r2.resource_manager.memory_manager:\n",
    "        if info.entangle_time > 0:\n",
    "            data.append(info.entangle_time / 1e12)\n",
    "    data.sort()\n",
    "    ax2.plot(data, range(1, len(data) + 1), marker=\"o\")\n",
    "    ax2.set_title(\"r2\")\n",
    "    ax2.set_xlabel(\"Simulation Time (s)\")\n",
    "    \n",
    "    # entangled memories on r3\n",
    "    data = []\n",
    "    for info in r3.resource_manager.memory_manager:\n",
    "        if info.entangle_time > 0:\n",
    "            data.append(info.entangle_time / 1e12)\n",
    "    data.sort()\n",
    "    ax3.plot(data, range(1, len(data) + 1), marker=\"o\")\n",
    "    ax3.set_title(\"r3\")\n",
    "    \n",
    "    fig.tight_layout()\n",
    "\n",
    "    # display metrics for memory fidelities\n",
    "    fig, (ax1, ax2, ax3) = plt.subplots(1,3)\n",
    "    \n",
    "    # display collected metric for memory fidelities on r1\n",
    "    data = []\n",
    "    for info in r1.resource_manager.memory_manager:\n",
    "        data.append(info.fidelity)\n",
    "    ax1.bar(range(len(data)), data)\n",
    "    ax1.plot([0, len(data)], [raw_fidelity, raw_fidelity], \"k--\")\n",
    "    ax1.plot([0, len(data)], [0.9, 0.9], \"k--\")\n",
    "    ax1.set_ylim(0.7,1)\n",
    "    ax1.set_title(\"r1\")\n",
    "    ax1.set_ylabel(\"Fidelity\")\n",
    "\n",
    "    # display collected metric for memory fidelities on r2\n",
    "    data = []\n",
    "    for info in r2.resource_manager.memory_manager:\n",
    "        data.append(info.fidelity)\n",
    "    ax2.bar(range(len(data)), data)\n",
    "    ax2.plot([0, len(data)], [raw_fidelity, raw_fidelity], \"k--\")\n",
    "    ax2.plot([0, len(data)], [0.9, 0.9], \"k--\")\n",
    "    ax2.set_ylim(0.7,1)\n",
    "    ax2.set_title(\"r2\")\n",
    "    ax2.set_xlabel(\"Memory Number\")\n",
    "\n",
    "    # display collected metric for memory fidelities on r3\n",
    "    data = []\n",
    "    for info in r3.resource_manager.memory_manager:\n",
    "        data.append(info.fidelity)\n",
    "    ax3.bar(range(len(data)), data)\n",
    "    ax3.plot([0, len(data)], [raw_fidelity, raw_fidelity], \"k--\")\n",
    "    ax3.plot([0, len(data)], [0.9, 0.9], \"k--\")\n",
    "    ax3.set_ylim(0.7,1)\n",
    "    ax3.set_title(\"r3\")\n",
    "    \n",
    "    fig.tight_layout()"
   ]
  },
  {
   "cell_type": "markdown",
   "metadata": {},
   "source": [
    "### Running the Simulation\n",
    "\n",
    "All that is left is to run the simulation with user input."
   ]
  },
  {
   "cell_type": "code",
   "execution_count": 32,
   "metadata": {},
   "outputs": [
    {
     "name": "stdout",
     "output_type": "stream",
     "text": [
      "execution time 24.65 sec\n"
     ]
    },
    {
     "data": {
      "image/png": "[encoded data removed]",
      "text/plain": [
       "<Figure size 432x288 with 3 Axes>"
      ]
     },
     "metadata": {
      "needs_background": "light"
     },
     "output_type": "display_data"
    },
    {
     "data": {
      "image/png": "[encoded data removed]",
      "text/plain": [
       "<Figure size 432x288 with 3 Axes>"
      ]
     },
     "metadata": {
      "needs_background": "light"
     },
     "output_type": "display_data"
    }
   ],
   "source": [
    "test(2000, 1000, 0.0002, 5)"
   ]
  },
  {
   "cell_type": "code",
   "execution_count": null,
   "metadata": {},
   "outputs": [],
   "source": []
  }
 ],
 "metadata": {
  "kernelspec": {
   "display_name": "Python 3",
   "language": "python",
   "name": "python3"
  },
  "language_info": {
   "codemirror_mode": {
    "name": "ipython",
    "version": 3
   },
   "file_extension": ".py",
   "mimetype": "text/x-python",
   "name": "python",
   "nbconvert_exporter": "python",
   "pygments_lexer": "ipython3",
   "version": "3.7.3"
  }
 },
 "nbformat": 4,
 "nbformat_minor": 1
}
