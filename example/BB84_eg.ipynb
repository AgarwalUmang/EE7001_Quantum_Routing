{
 "cells": [
  {
   "cell_type": "code",
   "execution_count": 1,
   "metadata": {},
   "outputs": [],
   "source": [
    "from ipywidgets import interact\n",
    "from matplotlib import pyplot as plt\n",
    "import time"
   ]
  },
  {
   "cell_type": "code",
   "execution_count": 2,
   "metadata": {},
   "outputs": [],
   "source": [
    "from sequence.kernel.timeline import Timeline\n",
    "from sequence.topology.node import QKDNode\n",
    "from sequence.components.optical_channel import QuantumChannel, ClassicalChannel\n",
    "from sequence.protocols.qkd.BB84 import pair_bb84_protocols"
   ]
  },
  {
   "cell_type": "code",
   "execution_count": 3,
   "metadata": {},
   "outputs": [],
   "source": [
    "class KeyManager():\n",
    "    def __init__(self, timeline, keysize, num_keys):\n",
    "        self.timeline = timeline\n",
    "        self.lower_protocols = []\n",
    "        self.keysize = keysize\n",
    "        self.num_keys = num_keys\n",
    "        self.keys = []\n",
    "        self.times = []\n",
    "        \n",
    "    def send_request(self):\n",
    "        for p in self.lower_protocols:\n",
    "            p.push(self.keysize, self.num_keys)\n",
    "            \n",
    "    def pop(self, msg):\n",
    "        self.keys.append(msg)\n",
    "        self.times.append(self.timeline.now())"
   ]
  },
  {
   "cell_type": "code",
   "execution_count": 4,
   "metadata": {},
   "outputs": [],
   "source": [
    "def test(sim_time, keysize):\n",
    "    \"\"\"\n",
    "    sim_time: duration of simulation time (ms)\n",
    "    \"\"\"\n",
    "    tl = Timeline(sim_time * 1e9)\n",
    "    \n",
    "    n1 = QKDNode(\"n1\", tl)\n",
    "    n2 = QKDNode(\"n2\", tl)\n",
    "    pair_bb84_protocols(n1.sifting_protocol, n2.sifting_protocol)\n",
    "    \n",
    "    cc = ClassicalChannel(\"cc_n1_n2\", tl, 2e-4, 1e3)\n",
    "    cc.set_ends(n1, n2)\n",
    "    qc = QuantumChannel(\"qc_n1_n2\", tl, 1e-5, 1e3)\n",
    "    qc.set_ends(n1, n2)\n",
    "    \n",
    "    km1 = KeyManager(tl, keysize, 10)\n",
    "    km1.lower_protocols.append(n1.sifting_protocol)\n",
    "    n1.sifting_protocol.upper_protocols.append(km1)\n",
    "    km2 = KeyManager(tl, keysize, 10)\n",
    "    km2.lower_protocols.append(n2.sifting_protocol)\n",
    "    n2.sifting_protocol.upper_protocols.append(km2)\n",
    "    \n",
    "    tl.init()\n",
    "    km1.send_request()\n",
    "    \n",
    "    tick = time.time()\n",
    "    tl.run()\n",
    "    print(\"execution time %.2f sec\" % (time.time() - tick))\n",
    "    plt.plot(km1.times, range(1, len(km1.keys) + 1), marker=\"o\")\n",
    "    plt.show()\n",
    "    print(\"key error rates:\")\n",
    "    for i, e in enumerate(n1.sifting_protocol.error_rates):\n",
    "        print(\"\\tkey {}:\\t{}%\".format(i + 1, e * 100))"
   ]
  },
  {
   "cell_type": "code",
   "execution_count": 5,
   "metadata": {},
   "outputs": [
    {
     "data": {
      "application/vnd.jupyter.widget-view+json": {
       "model_id": "dced265ca08549258ea53b0ef39e0d9c",
       "version_major": 2,
       "version_minor": 0
      },
      "text/plain": [
       "interactive(children=(IntSlider(value=500, description='sim_time', max=1000, min=100, step=100), Dropdown(desc…"
      ]
     },
     "metadata": {},
     "output_type": "display_data"
    },
    {
     "data": {
      "text/plain": [
       "<function __main__.test(sim_time, keysize)>"
      ]
     },
     "execution_count": 5,
     "metadata": {},
     "output_type": "execute_result"
    }
   ],
   "source": [
    "interactive_plot = interact(test, sim_time=(100, 1000, 100), keysize=[128, 256, 512])\n",
    "interactive_plot"
   ]
  },
  {
   "cell_type": "code",
   "execution_count": null,
   "metadata": {},
   "outputs": [],
   "source": []
  }
 ],
 "metadata": {
  "kernelspec": {
   "display_name": "Python 3",
   "language": "python",
   "name": "python3"
  },
  "language_info": {
   "codemirror_mode": {
    "name": "ipython",
    "version": 3
   },
   "file_extension": ".py",
   "mimetype": "text/x-python",
   "name": "python",
   "nbconvert_exporter": "python",
   "pygments_lexer": "ipython3",
   "version": "3.7.3"
  }
 },
 "nbformat": 4,
 "nbformat_minor": 4
}
