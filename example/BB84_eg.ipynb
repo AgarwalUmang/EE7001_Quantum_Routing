{
 "cells": [
  {
   "cell_type": "code",
   "execution_count": 1,
   "metadata": {},
   "outputs": [],
   "source": [
    "from ipywidgets import interact\n",
    "from matplotlib import pyplot as plt\n",
    "import time"
   ]
  },
  {
   "cell_type": "code",
   "execution_count": 2,
   "metadata": {},
   "outputs": [],
   "source": [
    "# Import tools from the sequence library\n",
    "#   Timeline is the main element of the simulation kernel\n",
    "#   QKDNode is a type of quantum node specifically for quantum key distribution\n",
    "#   Quantum and Classical channels are communication links simulating optical fiber\n",
    "#   the pair_bb84_protocols is a required function to setup proper key distribution between nodes\n",
    "from sequence.kernel.timeline import Timeline\n",
    "from sequence.topology.node import QKDNode\n",
    "from sequence.components.optical_channel import QuantumChannel, ClassicalChannel\n",
    "from sequence.protocols.qkd.BB84 import pair_bb84_protocols"
   ]
  },
  {
   "cell_type": "code",
   "execution_count": 3,
   "metadata": {},
   "outputs": [],
   "source": [
    "# Here is a generic protocol to manage and monitor the BB84 protocol\n",
    "class KeyManager():\n",
    "    def __init__(self, timeline, keysize, num_keys):\n",
    "        self.timeline = timeline\n",
    "        self.lower_protocols = []\n",
    "        self.keysize = keysize\n",
    "        self.num_keys = num_keys\n",
    "        self.keys = []\n",
    "        self.times = []\n",
    "        \n",
    "    def send_request(self):\n",
    "        for p in self.lower_protocols:\n",
    "            p.push(self.keysize, self.num_keys) # interface for BB84 to generate key\n",
    "            \n",
    "    def pop(self, msg): # interface for BB84 to return generated keys\n",
    "        self.keys.append(msg)\n",
    "        self.times.append(self.timeline.now())"
   ]
  },
  {
   "cell_type": "code",
   "execution_count": 6,
   "metadata": {},
   "outputs": [],
   "source": [
    "def test(sim_time, keysize):\n",
    "    \"\"\"\n",
    "    sim_time: duration of simulation time (ms)\n",
    "    keysize: size of generated secure key (bits)\n",
    "    \"\"\"\n",
    "    tl = Timeline(sim_time * 1e9)\n",
    "    \n",
    "    # Here, we create nodes for the network (QKD nodes for key distribution)\n",
    "    # stack_size=1 indicates that only the BB84 protocol should be included\n",
    "    n1 = QKDNode(\"n1\", tl, stack_size=1)\n",
    "    n2 = QKDNode(\"n2\", tl, stack_size=1)\n",
    "    pair_bb84_protocols(n1.protocol_stack[0], n2.protocol_stack[0])\n",
    "    \n",
    "    # connect the nodes and set parameters for the fibers\n",
    "    cc = ClassicalChannel(\"cc_n1_n2\", tl, distance=1e3)\n",
    "    cc.set_ends(n1, n2)\n",
    "    qc = QuantumChannel(\"qc_n1_n2\", tl, attenuation=1e-5, distance=1e3,\n",
    "                       polarization_fidelity=0.97)\n",
    "    qc.set_ends(n1, n2)\n",
    "    \n",
    "    # instantiate our written keysize protocol\n",
    "    km1 = KeyManager(tl, keysize, 10)\n",
    "    km1.lower_protocols.append(n1.protocol_stack[0])\n",
    "    n1.protocol_stack[0].upper_protocols.append(km1)\n",
    "    km2 = KeyManager(tl, keysize, 10)\n",
    "    km2.lower_protocols.append(n2.protocol_stack[0])\n",
    "    n2.protocol_stack[0].upper_protocols.append(km2)\n",
    "    \n",
    "    # start simulation and record timing\n",
    "    tl.init()\n",
    "    km1.send_request()\n",
    "    tick = time.time()\n",
    "    tl.run()\n",
    "    print(\"execution time %.2f sec\" % (time.time() - tick))\n",
    "    \n",
    "    # display our collected metrics\n",
    "    plt.plot(km1.times, range(1, len(km1.keys) + 1), marker=\"o\")\n",
    "    plt.xlabel(\"Simulation time (ps)\")\n",
    "    plt.ylabel(\"Number of Completed Keys\")\n",
    "    plt.show()\n",
    "    print(\"key error rates:\")\n",
    "    for i, e in enumerate(n1.protocol_stack[0].error_rates):\n",
    "        print(\"\\tkey {}:\\t{}%\".format(i + 1, e * 100))"
   ]
  },
  {
   "cell_type": "code",
   "execution_count": 7,
   "metadata": {},
   "outputs": [
    {
     "data": {
      "application/vnd.jupyter.widget-view+json": {
       "model_id": "29983e92ceac4885ab140403ac048534",
       "version_major": 2,
       "version_minor": 0
      },
      "text/plain": [
       "interactive(children=(IntSlider(value=500, description='sim_time', max=1000, min=100, step=100), Dropdown(desc…"
      ]
     },
     "metadata": {},
     "output_type": "display_data"
    },
    {
     "data": {
      "text/plain": [
       "<function __main__.test(sim_time, keysize)>"
      ]
     },
     "execution_count": 7,
     "metadata": {},
     "output_type": "execute_result"
    }
   ],
   "source": [
    "# Create and run the simulation\n",
    "interactive_plot = interact(test, sim_time=(100, 1000, 100), keysize=[128, 256, 512])\n",
    "interactive_plot"
   ]
  },
  {
   "cell_type": "code",
   "execution_count": null,
   "metadata": {},
   "outputs": [],
   "source": []
  }
 ],
 "metadata": {
  "kernelspec": {
   "display_name": "Python 3",
   "language": "python",
   "name": "python3"
  },
  "language_info": {
   "codemirror_mode": {
    "name": "ipython",
    "version": 3
   },
   "file_extension": ".py",
   "mimetype": "text/x-python",
   "name": "python",
   "nbconvert_exporter": "python",
   "pygments_lexer": "ipython3",
   "version": "3.7.3"
  }
 },
 "nbformat": 4,
 "nbformat_minor": 4
}
